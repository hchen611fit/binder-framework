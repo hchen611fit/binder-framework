{
 "cells": [
  {
   "cell_type": "code",
   "execution_count": 2,
   "id": "ba2e1ac3-1287-4b05-baf1-1825b480cfd5",
   "metadata": {},
   "outputs": [],
   "source": [
    "import pandas as pd"
   ]
  },
  {
   "cell_type": "code",
   "execution_count": 3,
   "id": "0ffabc53-d254-4d28-ac75-81a5e3a99a6d",
   "metadata": {},
   "outputs": [],
   "source": [
    "df = pd.read_csv('Value_of_Energy_Cost_Savings_Program_Savings_for_Businesses_-_FY2020.csv')"
   ]
  },
  {
   "cell_type": "code",
   "execution_count": 4,
   "id": "539168c4-df4d-480a-a4f6-7d13df75babd",
   "metadata": {},
   "outputs": [
    {
     "data": {
      "text/plain": [
       "439"
      ]
     },
     "execution_count": 4,
     "metadata": {},
     "output_type": "execute_result"
    }
   ],
   "source": [
    "df['Company Name'].nunique()\n",
    " "
   ]
  },
  {
   "cell_type": "code",
   "execution_count": 5,
   "id": "fd0638b0-947e-476f-8b75-f64bd083200c",
   "metadata": {},
   "outputs": [
    {
     "data": {
      "text/plain": [
       "102.0"
      ]
     },
     "execution_count": 5,
     "metadata": {},
     "output_type": "execute_result"
    }
   ],
   "source": [
    "df[df['Borough']=='Queens']['Job created'].sum()\n"
   ]
  },
  {
   "cell_type": "code",
   "execution_count": 6,
   "id": "f1f9bdf8-e600-48c4-8792-ef6339e23127",
   "metadata": {},
   "outputs": [],
   "source": [
    "df['domains'] = df['company email'].str.split('@',1).str[1]\n"
   ]
  },
  {
   "cell_type": "code",
   "execution_count": 7,
   "id": "802056a8-be0a-4833-bd9c-4f175b76e1a7",
   "metadata": {},
   "outputs": [
    {
     "data": {
      "text/plain": [
       "356"
      ]
     },
     "execution_count": 7,
     "metadata": {},
     "output_type": "execute_result"
    }
   ],
   "source": [
    "df.head()\n",
    "# df['domains'].isna().sum()\n",
    "df['domains'].count()\n",
    "df['domains'].nunique()\n",
    "# df.info()\n"
   ]
  },
  {
   "cell_type": "code",
   "execution_count": 9,
   "id": "cea7bfa1-06ab-466a-a340-d79a55d92b25",
   "metadata": {},
   "outputs": [],
   "source": [
    "df_new =df[df['NTA'].isin(df['NTA'].value_counts()[df['NTA'].value_counts() > 5].index)].groupby('NTA', as_index=False)[['Total Savings']].mean()\n",
    "df_new_1 =df[df['NTA'].isin(df['NTA'].value_counts()[df['NTA'].value_counts() > 5].index)].groupby('NTA', as_index=False)[['Job created']].sum()\n",
    "df_new = df_new.join(df_new_1.set_index('NTA'), on = 'NTA')\n",
    "df_new.columns = ['NTA','avgtotalsavings','jobcreated']\n",
    "df_new.to_csv('day4.csv')\n"
   ]
  },
  {
   "cell_type": "code",
   "execution_count": 10,
   "id": "191390be-0ac5-4eb4-8db1-f17a4a3f85c8",
   "metadata": {},
   "outputs": [
    {
     "data": {
      "text/html": [
       "<div>\n",
       "<style scoped>\n",
       "    .dataframe tbody tr th:only-of-type {\n",
       "        vertical-align: middle;\n",
       "    }\n",
       "\n",
       "    .dataframe tbody tr th {\n",
       "        vertical-align: top;\n",
       "    }\n",
       "\n",
       "    .dataframe thead th {\n",
       "        text-align: right;\n",
       "    }\n",
       "</style>\n",
       "<table border=\"1\" class=\"dataframe\">\n",
       "  <thead>\n",
       "    <tr style=\"text-align: right;\">\n",
       "      <th></th>\n",
       "      <th>NTA</th>\n",
       "      <th>avgtotalsavings</th>\n",
       "      <th>jobcreated</th>\n",
       "    </tr>\n",
       "  </thead>\n",
       "  <tbody>\n",
       "    <tr>\n",
       "      <th>0</th>\n",
       "      <td>Battery Park City-Lower Manhattan</td>\n",
       "      <td>469890.796667</td>\n",
       "      <td>0.0</td>\n",
       "    </tr>\n",
       "    <tr>\n",
       "      <th>1</th>\n",
       "      <td>Bushwick South</td>\n",
       "      <td>26140.455000</td>\n",
       "      <td>10.0</td>\n",
       "    </tr>\n",
       "    <tr>\n",
       "      <th>2</th>\n",
       "      <td>Carroll Gardens-Columbia Street-Red Hook</td>\n",
       "      <td>24337.390000</td>\n",
       "      <td>0.0</td>\n",
       "    </tr>\n",
       "    <tr>\n",
       "      <th>3</th>\n",
       "      <td>College Point</td>\n",
       "      <td>17159.372857</td>\n",
       "      <td>2.0</td>\n",
       "    </tr>\n",
       "    <tr>\n",
       "      <th>4</th>\n",
       "      <td>Crown Heights North</td>\n",
       "      <td>4036.298889</td>\n",
       "      <td>0.0</td>\n",
       "    </tr>\n",
       "    <tr>\n",
       "      <th>5</th>\n",
       "      <td>DUMBO-Vinegar Hill-Downtown Brooklyn-Boerum Hill</td>\n",
       "      <td>59950.340000</td>\n",
       "      <td>0.0</td>\n",
       "    </tr>\n",
       "    <tr>\n",
       "      <th>6</th>\n",
       "      <td>East New York</td>\n",
       "      <td>48433.093333</td>\n",
       "      <td>15.0</td>\n",
       "    </tr>\n",
       "    <tr>\n",
       "      <th>7</th>\n",
       "      <td>East Williamsburg</td>\n",
       "      <td>13990.626364</td>\n",
       "      <td>0.0</td>\n",
       "    </tr>\n",
       "    <tr>\n",
       "      <th>8</th>\n",
       "      <td>Greenpoint</td>\n",
       "      <td>9753.649286</td>\n",
       "      <td>0.0</td>\n",
       "    </tr>\n",
       "    <tr>\n",
       "      <th>9</th>\n",
       "      <td>Hunters Point-Sunnyside-West Maspeth</td>\n",
       "      <td>23931.398933</td>\n",
       "      <td>0.0</td>\n",
       "    </tr>\n",
       "    <tr>\n",
       "      <th>10</th>\n",
       "      <td>Hunts Point</td>\n",
       "      <td>39246.016154</td>\n",
       "      <td>12.0</td>\n",
       "    </tr>\n",
       "    <tr>\n",
       "      <th>11</th>\n",
       "      <td>Manhattanville</td>\n",
       "      <td>2760.888889</td>\n",
       "      <td>0.0</td>\n",
       "    </tr>\n",
       "    <tr>\n",
       "      <th>12</th>\n",
       "      <td>Maspeth</td>\n",
       "      <td>6658.283333</td>\n",
       "      <td>10.0</td>\n",
       "    </tr>\n",
       "    <tr>\n",
       "      <th>13</th>\n",
       "      <td>Mott Haven-Port Morris</td>\n",
       "      <td>17843.937857</td>\n",
       "      <td>10.0</td>\n",
       "    </tr>\n",
       "    <tr>\n",
       "      <th>14</th>\n",
       "      <td>Queensbridge-Ravenswood-Long Island City</td>\n",
       "      <td>61830.770625</td>\n",
       "      <td>0.0</td>\n",
       "    </tr>\n",
       "    <tr>\n",
       "      <th>15</th>\n",
       "      <td>Steinway</td>\n",
       "      <td>11227.155714</td>\n",
       "      <td>20.0</td>\n",
       "    </tr>\n",
       "    <tr>\n",
       "      <th>16</th>\n",
       "      <td>Sunset Park West</td>\n",
       "      <td>14316.976875</td>\n",
       "      <td>0.0</td>\n",
       "    </tr>\n",
       "    <tr>\n",
       "      <th>17</th>\n",
       "      <td>park-cemetery-etc-Brooklyn</td>\n",
       "      <td>14327.419333</td>\n",
       "      <td>0.0</td>\n",
       "    </tr>\n",
       "  </tbody>\n",
       "</table>\n",
       "</div>"
      ],
      "text/plain": [
       "                                                 NTA  avgtotalsavings  \\\n",
       "0                  Battery Park City-Lower Manhattan    469890.796667   \n",
       "1                                     Bushwick South     26140.455000   \n",
       "2           Carroll Gardens-Columbia Street-Red Hook     24337.390000   \n",
       "3                                      College Point     17159.372857   \n",
       "4                                Crown Heights North      4036.298889   \n",
       "5   DUMBO-Vinegar Hill-Downtown Brooklyn-Boerum Hill     59950.340000   \n",
       "6                                      East New York     48433.093333   \n",
       "7                                  East Williamsburg     13990.626364   \n",
       "8                                         Greenpoint      9753.649286   \n",
       "9               Hunters Point-Sunnyside-West Maspeth     23931.398933   \n",
       "10                                       Hunts Point     39246.016154   \n",
       "11                                    Manhattanville      2760.888889   \n",
       "12                                           Maspeth      6658.283333   \n",
       "13                            Mott Haven-Port Morris     17843.937857   \n",
       "14          Queensbridge-Ravenswood-Long Island City     61830.770625   \n",
       "15                                          Steinway     11227.155714   \n",
       "16                                  Sunset Park West     14316.976875   \n",
       "17                        park-cemetery-etc-Brooklyn     14327.419333   \n",
       "\n",
       "    jobcreated  \n",
       "0          0.0  \n",
       "1         10.0  \n",
       "2          0.0  \n",
       "3          2.0  \n",
       "4          0.0  \n",
       "5          0.0  \n",
       "6         15.0  \n",
       "7          0.0  \n",
       "8          0.0  \n",
       "9          0.0  \n",
       "10        12.0  \n",
       "11         0.0  \n",
       "12        10.0  \n",
       "13        10.0  \n",
       "14         0.0  \n",
       "15        20.0  \n",
       "16         0.0  \n",
       "17         0.0  "
      ]
     },
     "execution_count": 10,
     "metadata": {},
     "output_type": "execute_result"
    }
   ],
   "source": [
    "df_new"
   ]
  },
  {
   "cell_type": "code",
   "execution_count": null,
   "id": "5b59418d-dfe6-4f66-b513-462f447db75a",
   "metadata": {},
   "outputs": [],
   "source": []
  }
 ],
 "metadata": {
  "kernelspec": {
   "display_name": "Python 3 (ipykernel)",
   "language": "python",
   "name": "python3"
  },
  "language_info": {
   "codemirror_mode": {
    "name": "ipython",
    "version": 3
   },
   "file_extension": ".py",
   "mimetype": "text/x-python",
   "name": "python",
   "nbconvert_exporter": "python",
   "pygments_lexer": "ipython3",
   "version": "3.9.7"
  }
 },
 "nbformat": 4,
 "nbformat_minor": 5
}
